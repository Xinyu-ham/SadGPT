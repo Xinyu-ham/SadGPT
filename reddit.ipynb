{
 "cells": [
  {
   "cell_type": "code",
   "execution_count": 2,
   "metadata": {},
   "outputs": [],
   "source": [
    "import requests, json\n",
    "import pandas as pd"
   ]
  },
  {
   "cell_type": "code",
   "execution_count": 13,
   "metadata": {},
   "outputs": [
    {
     "name": "stdout",
     "output_type": "stream",
     "text": [
      "Successfully logged in\n"
     ]
    }
   ],
   "source": [
    "# Import client ID and secret from cred file\n",
    "with open('cred.json', 'r') as f:\n",
    "    cred = json.load(f)\n",
    "\n",
    "# Set up the authentication\n",
    "auth = requests.auth.HTTPBasicAuth(cred['client_id'], cred['secret_token'])\n",
    "\n",
    "# Set log in method as password\n",
    "data = {'grant_type': 'password',\n",
    "        'username': cred['username'],\n",
    "        'password': cred['password']\n",
    "}\n",
    "\n",
    "headers = {'User-Agent': 'MyBot/0.0.1'}\n",
    "\n",
    "# Send our request for an OAuth token\n",
    "res = requests.post('https://www.reddit.com/api/v1/access_token',\n",
    "                    auth=auth, data=data, headers=headers)\n",
    "\n",
    "\n",
    "# Convert response to JSON and pull access_token value\n",
    "try:\n",
    "    TOKEN = res.json()['access_token']\n",
    "except KeyError:\n",
    "    print('Invalid credentials')\n",
    "    exit()\n",
    "\n",
    "    \n",
    "# add authorization to our headers dictionary\n",
    "headers = {**headers, **{'Authorization': f\"bearer {TOKEN}\"}}\n",
    "\n",
    "# while the token is valid (~2 hours) we just add headers=headers to our requests\n",
    "if requests.get('https://oauth.reddit.com/api/v1/me', headers=headers).status_code == 200:\n",
    "    print('Successfully logged in')\n",
    "\n"
   ]
  },
  {
   "cell_type": "code",
   "execution_count": null,
   "metadata": {},
   "outputs": [],
   "source": [
    "subreddit = 'depression'\n",
    "sort = 'top'\n",
    "uri = f'https://oauth.reddit.com/r/{subreddit}/{sort}'\n",
    "\n",
    "\n"
   ]
  },
  {
   "cell_type": "code",
   "execution_count": null,
   "metadata": {},
   "outputs": [],
   "source": []
  }
 ],
 "metadata": {
  "kernelspec": {
   "display_name": "Python 3",
   "language": "python",
   "name": "python3"
  },
  "language_info": {
   "codemirror_mode": {
    "name": "ipython",
    "version": 3
   },
   "file_extension": ".py",
   "mimetype": "text/x-python",
   "name": "python",
   "nbconvert_exporter": "python",
   "pygments_lexer": "ipython3",
   "version": "3.9.7"
  },
  "orig_nbformat": 4
 },
 "nbformat": 4,
 "nbformat_minor": 2
}
